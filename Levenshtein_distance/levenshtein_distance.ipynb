{
 "cells": [
  {
   "attachments": {},
   "cell_type": "markdown",
   "metadata": {},
   "source": [
    "#### Реализация подсчета Дистанции Левенштейна для русского словаря\n",
    "Работу выполнил студент Голев. А.С. 2022</br>\n",
    " @author: goliksim"
   ]
  },
  {
   "cell_type": "code",
   "execution_count": 1,
   "metadata": {},
   "outputs": [],
   "source": [
    "%matplotlib inline\n",
    "import numpy as np\n",
    "import io\n",
    "import requests\n",
    "from tqdm import tqdm\n",
    "import pandas as pd\n",
    "import time\n",
    "from matplotlib import pyplot as plt"
   ]
  },
  {
   "cell_type": "markdown",
   "metadata": {},
   "source": [
    "Грузим русский словарь"
   ]
  },
  {
   "cell_type": "code",
   "execution_count": 2,
   "metadata": {},
   "outputs": [],
   "source": [
    "response = requests.get('https://raw.githubusercontent.com/danakt/russian-words/master/russian.txt')\n",
    "\n",
    "text = response.content.decode('cp1251')\n",
    "\n",
    "with open('russian.txt', 'wb') as ru:\n",
    "    ru.write(\"\\n\".join(text.upper().split('\\n')[100::1500]).encode('utf-8'))"
   ]
  },
  {
   "cell_type": "markdown",
   "metadata": {},
   "source": [
    "### Метрика Левенштейна"
   ]
  },
  {
   "cell_type": "markdown",
   "metadata": {},
   "source": [
    "Задание весов для операций"
   ]
  },
  {
   "cell_type": "code",
   "execution_count": 3,
   "metadata": {},
   "outputs": [],
   "source": [
    "def lvs_distance(string1, string2, ins = 1, deL = 1, sub = 1):\n",
    "    D = np.zeros((len(string2)+1,len(string1)+1),dtype = int)\n",
    "    D[:,0] = np.array([i*deL for i in range(len(string2)+1)])\n",
    "    D[0,:] = np.array([i*ins for i in range(len(string1)+1)])\n",
    "    for i in range(1,(len(string2)+1)):\n",
    "        for j in range(1,(len(string1)+1)):\n",
    "            D[i,j] = min([ D[i-1,j-1]+sub*int(string1[j-1]!=string2[i-1]), D[i-1,j] + deL, D[i,j-1] + ins ])\n",
    "    return D[-1,-1]"
   ]
  },
  {
   "cell_type": "markdown",
   "metadata": {},
   "source": [
    "#### Метрика Хэмминга (Евклидово расстояние для слов)"
   ]
  },
  {
   "cell_type": "code",
   "execution_count": 4,
   "metadata": {},
   "outputs": [],
   "source": [
    "def evl_distance(string1, string2):\n",
    "    difference = 0\n",
    "    if len(string1) > len(string2):\n",
    "        difference = len(string1) - len(string2)\n",
    "        string1 = string1[:len(string2)]\n",
    "\n",
    "    elif len(string2) > len(string1):\n",
    "        difference = len(string2) - len(string1)\n",
    "        string2 = string2[:len(string1)]\n",
    "        \n",
    "    for i in range(len(string1)):\n",
    "        if string1[i] != string2[i]:\n",
    "            difference += 1\n",
    "\n",
    "    return difference"
   ]
  },
  {
   "cell_type": "markdown",
   "metadata": {},
   "source": [
    "#### Без массива\n"
   ]
  },
  {
   "cell_type": "code",
   "execution_count": null,
   "metadata": {},
   "outputs": [],
   "source": [
    "lvs_read_array = a = np.array([])\n",
    "i=1\n",
    "with io.open('russian.txt', encoding='utf-8') as ru1:\n",
    "    with io.open('russian.txt', encoding='utf-8') as ru2:\n",
    "        for words1 in tqdm(ru1):\n",
    "            ru2.seek(0)\n",
    "            # скипаем те, что уже проверены\n",
    "            for _ in range(i):\n",
    "                next(ru2)\n",
    "            for words2 in ru2:\n",
    "                lvs_array = np.append(lvs_array,lvs_distance(words1,words2))\n",
    "            i+=1\n"
   ]
  },
  {
   "cell_type": "markdown",
   "metadata": {},
   "source": [
    "#### Вычисляем дистанции"
   ]
  },
  {
   "cell_type": "code",
   "execution_count": 8,
   "metadata": {},
   "outputs": [],
   "source": [
    "distances = pd.DataFrame(columns=[\n",
    "    '1st word', '2nd word','lvs_111','lvs_221','lvs_112','evl', 'lvs_time', 'evl_time'])"
   ]
  },
  {
   "cell_type": "code",
   "execution_count": 9,
   "metadata": {},
   "outputs": [
    {
     "name": "stderr",
     "output_type": "stream",
     "text": [
      "100%|██████████| 1022/1022 [2:00:26<00:00,  7.07s/it] \n"
     ]
    }
   ],
   "source": [
    "with io.open('russian.txt', encoding='utf-8') as ru1:\n",
    "    ru1 = ru1.read().splitlines()\n",
    "    \n",
    "    for i in tqdm(range(len(ru1))):\n",
    "        for j in range(i+1,len(ru1)):\n",
    "\n",
    "            start = time.perf_counter()\n",
    "            lvs_range = lvs_distance(ru1[i],ru1[j])\n",
    "            end = time.perf_counter()\n",
    "            lvs_time = float(end - start)\n",
    "\n",
    "            start = time.perf_counter()\n",
    "            evl_range = evl_distance(ru1[i],ru1[j])\n",
    "            end = time.perf_counter()\n",
    "            evl_time = float(end - start)\n",
    "\n",
    "            distances.loc[len(distances)] = [ru1[i] ,ru1[j] ,lvs_range, lvs_distance(ru1[i],ru1[j],2,2,1), lvs_distance(ru1[i],ru1[j],1,1,2), evl_range, lvs_time, evl_time]"
   ]
  },
  {
   "cell_type": "markdown",
   "metadata": {},
   "source": [
    "Вывод самых похожих слов в алфавите"
   ]
  },
  {
   "cell_type": "code",
   "execution_count": 13,
   "metadata": {},
   "outputs": [],
   "source": [
    "def group_distaces(distances, column, n):\n",
    "     lvs_grouped = distances.groupby([column])\n",
    "\n",
    "     for (key,group),i in zip(lvs_grouped,range(n)):        \n",
    "          samples = 1\n",
    "          if (type(key)==type(1)): samples = 3\n",
    "          display(lvs_grouped.get_group(key)[['1st word','2nd word',column]].sample(n=samples).reset_index(drop=True))"
   ]
  },
  {
   "cell_type": "code",
   "execution_count": 14,
   "metadata": {},
   "outputs": [
    {
     "data": {
      "text/html": [
       "<div>\n",
       "<style scoped>\n",
       "    .dataframe tbody tr th:only-of-type {\n",
       "        vertical-align: middle;\n",
       "    }\n",
       "\n",
       "    .dataframe tbody tr th {\n",
       "        vertical-align: top;\n",
       "    }\n",
       "\n",
       "    .dataframe thead th {\n",
       "        text-align: right;\n",
       "    }\n",
       "</style>\n",
       "<table border=\"1\" class=\"dataframe\">\n",
       "  <thead>\n",
       "    <tr style=\"text-align: right;\">\n",
       "      <th></th>\n",
       "      <th>1st word</th>\n",
       "      <th>2nd word</th>\n",
       "      <th>lvs_111</th>\n",
       "    </tr>\n",
       "  </thead>\n",
       "  <tbody>\n",
       "    <tr>\n",
       "      <th>0</th>\n",
       "      <td>УМЕЮ</td>\n",
       "      <td>ШМЕЛЮ</td>\n",
       "      <td>2</td>\n",
       "    </tr>\n",
       "    <tr>\n",
       "      <th>1</th>\n",
       "      <td>СЖИГАЙТЕ</td>\n",
       "      <td>УЖИНАЙТЕ</td>\n",
       "      <td>2</td>\n",
       "    </tr>\n",
       "    <tr>\n",
       "      <th>2</th>\n",
       "      <td>ОСТОВЫЙ</td>\n",
       "      <td>СОСКОВЫЙ</td>\n",
       "      <td>2</td>\n",
       "    </tr>\n",
       "  </tbody>\n",
       "</table>\n",
       "</div>"
      ],
      "text/plain": [
       "   1st word  2nd word  lvs_111\n",
       "0      УМЕЮ     ШМЕЛЮ        2\n",
       "1  СЖИГАЙТЕ  УЖИНАЙТЕ        2\n",
       "2   ОСТОВЫЙ  СОСКОВЫЙ        2"
      ]
     },
     "metadata": {},
     "output_type": "display_data"
    },
    {
     "data": {
      "text/html": [
       "<div>\n",
       "<style scoped>\n",
       "    .dataframe tbody tr th:only-of-type {\n",
       "        vertical-align: middle;\n",
       "    }\n",
       "\n",
       "    .dataframe tbody tr th {\n",
       "        vertical-align: top;\n",
       "    }\n",
       "\n",
       "    .dataframe thead th {\n",
       "        text-align: right;\n",
       "    }\n",
       "</style>\n",
       "<table border=\"1\" class=\"dataframe\">\n",
       "  <thead>\n",
       "    <tr style=\"text-align: right;\">\n",
       "      <th></th>\n",
       "      <th>1st word</th>\n",
       "      <th>2nd word</th>\n",
       "      <th>lvs_111</th>\n",
       "    </tr>\n",
       "  </thead>\n",
       "  <tbody>\n",
       "    <tr>\n",
       "      <th>0</th>\n",
       "      <td>ВКОПАЛСЯ</td>\n",
       "      <td>ВПИВАЛСЯ</td>\n",
       "      <td>3</td>\n",
       "    </tr>\n",
       "    <tr>\n",
       "      <th>1</th>\n",
       "      <td>ОТКОЛЕМ</td>\n",
       "      <td>ОТКРОЕТ</td>\n",
       "      <td>3</td>\n",
       "    </tr>\n",
       "    <tr>\n",
       "      <th>2</th>\n",
       "      <td>ДЕЧНОЙ</td>\n",
       "      <td>РУЧНОМ</td>\n",
       "      <td>3</td>\n",
       "    </tr>\n",
       "  </tbody>\n",
       "</table>\n",
       "</div>"
      ],
      "text/plain": [
       "   1st word  2nd word  lvs_111\n",
       "0  ВКОПАЛСЯ  ВПИВАЛСЯ        3\n",
       "1   ОТКОЛЕМ   ОТКРОЕТ        3\n",
       "2    ДЕЧНОЙ    РУЧНОМ        3"
      ]
     },
     "metadata": {},
     "output_type": "display_data"
    },
    {
     "data": {
      "text/html": [
       "<div>\n",
       "<style scoped>\n",
       "    .dataframe tbody tr th:only-of-type {\n",
       "        vertical-align: middle;\n",
       "    }\n",
       "\n",
       "    .dataframe tbody tr th {\n",
       "        vertical-align: top;\n",
       "    }\n",
       "\n",
       "    .dataframe thead th {\n",
       "        text-align: right;\n",
       "    }\n",
       "</style>\n",
       "<table border=\"1\" class=\"dataframe\">\n",
       "  <thead>\n",
       "    <tr style=\"text-align: right;\">\n",
       "      <th></th>\n",
       "      <th>1st word</th>\n",
       "      <th>2nd word</th>\n",
       "      <th>lvs_111</th>\n",
       "    </tr>\n",
       "  </thead>\n",
       "  <tbody>\n",
       "    <tr>\n",
       "      <th>0</th>\n",
       "      <td>ДУГОВОЕ</td>\n",
       "      <td>ТУГОДУМЕ</td>\n",
       "      <td>4</td>\n",
       "    </tr>\n",
       "    <tr>\n",
       "      <th>1</th>\n",
       "      <td>БРАНОЮ</td>\n",
       "      <td>КРАПУ</td>\n",
       "      <td>4</td>\n",
       "    </tr>\n",
       "    <tr>\n",
       "      <th>2</th>\n",
       "      <td>ТОЛЬК</td>\n",
       "      <td>ХОЛИШЬ</td>\n",
       "      <td>4</td>\n",
       "    </tr>\n",
       "  </tbody>\n",
       "</table>\n",
       "</div>"
      ],
      "text/plain": [
       "  1st word  2nd word  lvs_111\n",
       "0  ДУГОВОЕ  ТУГОДУМЕ        4\n",
       "1   БРАНОЮ     КРАПУ        4\n",
       "2    ТОЛЬК    ХОЛИШЬ        4"
      ]
     },
     "metadata": {},
     "output_type": "display_data"
    }
   ],
   "source": [
    "group_distaces(distances,'lvs_111', 3)"
   ]
  },
  {
   "cell_type": "code",
   "execution_count": 15,
   "metadata": {},
   "outputs": [
    {
     "data": {
      "text/html": [
       "<div>\n",
       "<style scoped>\n",
       "    .dataframe tbody tr th:only-of-type {\n",
       "        vertical-align: middle;\n",
       "    }\n",
       "\n",
       "    .dataframe tbody tr th {\n",
       "        vertical-align: top;\n",
       "    }\n",
       "\n",
       "    .dataframe thead th {\n",
       "        text-align: right;\n",
       "    }\n",
       "</style>\n",
       "<table border=\"1\" class=\"dataframe\">\n",
       "  <thead>\n",
       "    <tr style=\"text-align: right;\">\n",
       "      <th></th>\n",
       "      <th>1st word</th>\n",
       "      <th>2nd word</th>\n",
       "      <th>evl</th>\n",
       "    </tr>\n",
       "  </thead>\n",
       "  <tbody>\n",
       "    <tr>\n",
       "      <th>0</th>\n",
       "      <td>КРАПУ</td>\n",
       "      <td>КРАЮ</td>\n",
       "      <td>2</td>\n",
       "    </tr>\n",
       "    <tr>\n",
       "      <th>1</th>\n",
       "      <td>СЖИГАЙТЕ</td>\n",
       "      <td>УЖИНАЙТЕ</td>\n",
       "      <td>2</td>\n",
       "    </tr>\n",
       "    <tr>\n",
       "      <th>2</th>\n",
       "      <td>ОЖИГАЕТЕ</td>\n",
       "      <td>СЖИГАЙТЕ</td>\n",
       "      <td>2</td>\n",
       "    </tr>\n",
       "  </tbody>\n",
       "</table>\n",
       "</div>"
      ],
      "text/plain": [
       "   1st word  2nd word  evl\n",
       "0     КРАПУ      КРАЮ    2\n",
       "1  СЖИГАЙТЕ  УЖИНАЙТЕ    2\n",
       "2  ОЖИГАЕТЕ  СЖИГАЙТЕ    2"
      ]
     },
     "metadata": {},
     "output_type": "display_data"
    },
    {
     "data": {
      "text/html": [
       "<div>\n",
       "<style scoped>\n",
       "    .dataframe tbody tr th:only-of-type {\n",
       "        vertical-align: middle;\n",
       "    }\n",
       "\n",
       "    .dataframe tbody tr th {\n",
       "        vertical-align: top;\n",
       "    }\n",
       "\n",
       "    .dataframe thead th {\n",
       "        text-align: right;\n",
       "    }\n",
       "</style>\n",
       "<table border=\"1\" class=\"dataframe\">\n",
       "  <thead>\n",
       "    <tr style=\"text-align: right;\">\n",
       "      <th></th>\n",
       "      <th>1st word</th>\n",
       "      <th>2nd word</th>\n",
       "      <th>evl</th>\n",
       "    </tr>\n",
       "  </thead>\n",
       "  <tbody>\n",
       "    <tr>\n",
       "      <th>0</th>\n",
       "      <td>ДЕЧНОЙ</td>\n",
       "      <td>КАЗНОЙ</td>\n",
       "      <td>3</td>\n",
       "    </tr>\n",
       "    <tr>\n",
       "      <th>1</th>\n",
       "      <td>ПОИМЕНУЮ</td>\n",
       "      <td>ПОЛЮСНУЮ</td>\n",
       "      <td>3</td>\n",
       "    </tr>\n",
       "    <tr>\n",
       "      <th>2</th>\n",
       "      <td>ВУЗКОМ</td>\n",
       "      <td>РУЧНОМ</td>\n",
       "      <td>3</td>\n",
       "    </tr>\n",
       "  </tbody>\n",
       "</table>\n",
       "</div>"
      ],
      "text/plain": [
       "   1st word  2nd word  evl\n",
       "0    ДЕЧНОЙ    КАЗНОЙ    3\n",
       "1  ПОИМЕНУЮ  ПОЛЮСНУЮ    3\n",
       "2    ВУЗКОМ    РУЧНОМ    3"
      ]
     },
     "metadata": {},
     "output_type": "display_data"
    },
    {
     "data": {
      "text/html": [
       "<div>\n",
       "<style scoped>\n",
       "    .dataframe tbody tr th:only-of-type {\n",
       "        vertical-align: middle;\n",
       "    }\n",
       "\n",
       "    .dataframe tbody tr th {\n",
       "        vertical-align: top;\n",
       "    }\n",
       "\n",
       "    .dataframe thead th {\n",
       "        text-align: right;\n",
       "    }\n",
       "</style>\n",
       "<table border=\"1\" class=\"dataframe\">\n",
       "  <thead>\n",
       "    <tr style=\"text-align: right;\">\n",
       "      <th></th>\n",
       "      <th>1st word</th>\n",
       "      <th>2nd word</th>\n",
       "      <th>evl</th>\n",
       "    </tr>\n",
       "  </thead>\n",
       "  <tbody>\n",
       "    <tr>\n",
       "      <th>0</th>\n",
       "      <td>НЕМАЛЫМИ</td>\n",
       "      <td>ПЕРИЛАМИ</td>\n",
       "      <td>4</td>\n",
       "    </tr>\n",
       "    <tr>\n",
       "      <th>1</th>\n",
       "      <td>ГИФАМ</td>\n",
       "      <td>МИРЯТ</td>\n",
       "      <td>4</td>\n",
       "    </tr>\n",
       "    <tr>\n",
       "      <th>2</th>\n",
       "      <td>ЛЮТОЕ</td>\n",
       "      <td>СУРОВ</td>\n",
       "      <td>4</td>\n",
       "    </tr>\n",
       "  </tbody>\n",
       "</table>\n",
       "</div>"
      ],
      "text/plain": [
       "   1st word  2nd word  evl\n",
       "0  НЕМАЛЫМИ  ПЕРИЛАМИ    4\n",
       "1     ГИФАМ     МИРЯТ    4\n",
       "2     ЛЮТОЕ     СУРОВ    4"
      ]
     },
     "metadata": {},
     "output_type": "display_data"
    }
   ],
   "source": [
    "group_distaces(distances,'evl',3)"
   ]
  },
  {
   "cell_type": "markdown",
   "metadata": {},
   "source": [
    "#### Корреляция дистанций Левенштейна c Евклидовой метрикой"
   ]
  },
  {
   "cell_type": "code",
   "execution_count": 16,
   "metadata": {},
   "outputs": [],
   "source": [
    "def calc_corr(distances):\n",
    "    display(distances[['lvs_111','lvs_221','lvs_112','evl']].corr())"
   ]
  },
  {
   "cell_type": "code",
   "execution_count": 17,
   "metadata": {},
   "outputs": [
    {
     "data": {
      "text/html": [
       "<div>\n",
       "<style scoped>\n",
       "    .dataframe tbody tr th:only-of-type {\n",
       "        vertical-align: middle;\n",
       "    }\n",
       "\n",
       "    .dataframe tbody tr th {\n",
       "        vertical-align: top;\n",
       "    }\n",
       "\n",
       "    .dataframe thead th {\n",
       "        text-align: right;\n",
       "    }\n",
       "</style>\n",
       "<table border=\"1\" class=\"dataframe\">\n",
       "  <thead>\n",
       "    <tr style=\"text-align: right;\">\n",
       "      <th></th>\n",
       "      <th>lvs_111</th>\n",
       "      <th>lvs_221</th>\n",
       "      <th>lvs_112</th>\n",
       "      <th>evl</th>\n",
       "    </tr>\n",
       "  </thead>\n",
       "  <tbody>\n",
       "    <tr>\n",
       "      <th>lvs_111</th>\n",
       "      <td>1.000000</td>\n",
       "      <td>0.869222</td>\n",
       "      <td>0.861508</td>\n",
       "      <td>0.897051</td>\n",
       "    </tr>\n",
       "    <tr>\n",
       "      <th>lvs_221</th>\n",
       "      <td>0.869222</td>\n",
       "      <td>1.000000</td>\n",
       "      <td>0.590392</td>\n",
       "      <td>0.870369</td>\n",
       "    </tr>\n",
       "    <tr>\n",
       "      <th>lvs_112</th>\n",
       "      <td>0.861508</td>\n",
       "      <td>0.590392</td>\n",
       "      <td>1.000000</td>\n",
       "      <td>0.732565</td>\n",
       "    </tr>\n",
       "    <tr>\n",
       "      <th>evl</th>\n",
       "      <td>0.897051</td>\n",
       "      <td>0.870369</td>\n",
       "      <td>0.732565</td>\n",
       "      <td>1.000000</td>\n",
       "    </tr>\n",
       "  </tbody>\n",
       "</table>\n",
       "</div>"
      ],
      "text/plain": [
       "          lvs_111   lvs_221   lvs_112       evl\n",
       "lvs_111  1.000000  0.869222  0.861508  0.897051\n",
       "lvs_221  0.869222  1.000000  0.590392  0.870369\n",
       "lvs_112  0.861508  0.590392  1.000000  0.732565\n",
       "evl      0.897051  0.870369  0.732565  1.000000"
      ]
     },
     "metadata": {},
     "output_type": "display_data"
    }
   ],
   "source": [
    "calc_corr(distances)"
   ]
  },
  {
   "cell_type": "markdown",
   "metadata": {},
   "source": [
    "#### Выведем какие-нибудь слова и посмотрим на дистанции"
   ]
  },
  {
   "cell_type": "code",
   "execution_count": 18,
   "metadata": {},
   "outputs": [],
   "source": [
    "def show_samples(distances):\n",
    "    display(distances.sample(n = 10)[['1st word', '2nd word','lvs_111','lvs_221','lvs_112','evl']])"
   ]
  },
  {
   "cell_type": "code",
   "execution_count": 19,
   "metadata": {},
   "outputs": [
    {
     "data": {
      "text/html": [
       "<div>\n",
       "<style scoped>\n",
       "    .dataframe tbody tr th:only-of-type {\n",
       "        vertical-align: middle;\n",
       "    }\n",
       "\n",
       "    .dataframe tbody tr th {\n",
       "        vertical-align: top;\n",
       "    }\n",
       "\n",
       "    .dataframe thead th {\n",
       "        text-align: right;\n",
       "    }\n",
       "</style>\n",
       "<table border=\"1\" class=\"dataframe\">\n",
       "  <thead>\n",
       "    <tr style=\"text-align: right;\">\n",
       "      <th></th>\n",
       "      <th>1st word</th>\n",
       "      <th>2nd word</th>\n",
       "      <th>lvs_111</th>\n",
       "      <th>lvs_221</th>\n",
       "      <th>lvs_112</th>\n",
       "      <th>evl</th>\n",
       "    </tr>\n",
       "  </thead>\n",
       "  <tbody>\n",
       "    <tr>\n",
       "      <th>234199</th>\n",
       "      <td>ЗВЕНОРАЗБОРОЧНЫХ</td>\n",
       "      <td>МЯГКОТЕЛКУ</td>\n",
       "      <td>15</td>\n",
       "      <td>21</td>\n",
       "      <td>24</td>\n",
       "      <td>15</td>\n",
       "    </tr>\n",
       "    <tr>\n",
       "      <th>473184</th>\n",
       "      <td>ПРОБОЙНОМ</td>\n",
       "      <td>ЧЕТЫРЁХСТЕННОМ</td>\n",
       "      <td>10</td>\n",
       "      <td>15</td>\n",
       "      <td>15</td>\n",
       "      <td>14</td>\n",
       "    </tr>\n",
       "    <tr>\n",
       "      <th>293500</th>\n",
       "      <td>ЛАРЕЧНИКИ</td>\n",
       "      <td>УМЕЮ</td>\n",
       "      <td>8</td>\n",
       "      <td>13</td>\n",
       "      <td>11</td>\n",
       "      <td>9</td>\n",
       "    </tr>\n",
       "    <tr>\n",
       "      <th>317814</th>\n",
       "      <td>МНОГОПОЛЬНОЙ</td>\n",
       "      <td>УПРАШИВАВШЕМУ</td>\n",
       "      <td>13</td>\n",
       "      <td>14</td>\n",
       "      <td>23</td>\n",
       "      <td>13</td>\n",
       "    </tr>\n",
       "    <tr>\n",
       "      <th>380257</th>\n",
       "      <td>ОЗИРАВШИЙ</td>\n",
       "      <td>РЕЖИМОМ</td>\n",
       "      <td>9</td>\n",
       "      <td>11</td>\n",
       "      <td>12</td>\n",
       "      <td>9</td>\n",
       "    </tr>\n",
       "    <tr>\n",
       "      <th>515654</th>\n",
       "      <td>ТОРМОШИ</td>\n",
       "      <td>УЛЬЧСКИМИ</td>\n",
       "      <td>8</td>\n",
       "      <td>10</td>\n",
       "      <td>12</td>\n",
       "      <td>8</td>\n",
       "    </tr>\n",
       "    <tr>\n",
       "      <th>134316</th>\n",
       "      <td>ГАЛОШНИЦ</td>\n",
       "      <td>МАРШАХ</td>\n",
       "      <td>6</td>\n",
       "      <td>8</td>\n",
       "      <td>10</td>\n",
       "      <td>7</td>\n",
       "    </tr>\n",
       "    <tr>\n",
       "      <th>116080</th>\n",
       "      <td>ВЫЛЕПЛЕННОМУ</td>\n",
       "      <td>СВОДНИЧАЕТЕ</td>\n",
       "      <td>12</td>\n",
       "      <td>13</td>\n",
       "      <td>17</td>\n",
       "      <td>12</td>\n",
       "    </tr>\n",
       "    <tr>\n",
       "      <th>112637</th>\n",
       "      <td>ВЫЗВАВШЕМСЯ</td>\n",
       "      <td>ЧЕРНИЧНИКОМ</td>\n",
       "      <td>11</td>\n",
       "      <td>11</td>\n",
       "      <td>18</td>\n",
       "      <td>11</td>\n",
       "    </tr>\n",
       "    <tr>\n",
       "      <th>186686</th>\n",
       "      <td>ДЯТЛОВОЮ</td>\n",
       "      <td>УРОНЕН</td>\n",
       "      <td>7</td>\n",
       "      <td>9</td>\n",
       "      <td>12</td>\n",
       "      <td>8</td>\n",
       "    </tr>\n",
       "  </tbody>\n",
       "</table>\n",
       "</div>"
      ],
      "text/plain": [
       "                1st word        2nd word  lvs_111  lvs_221  lvs_112  evl\n",
       "234199  ЗВЕНОРАЗБОРОЧНЫХ      МЯГКОТЕЛКУ       15       21       24   15\n",
       "473184         ПРОБОЙНОМ  ЧЕТЫРЁХСТЕННОМ       10       15       15   14\n",
       "293500         ЛАРЕЧНИКИ            УМЕЮ        8       13       11    9\n",
       "317814      МНОГОПОЛЬНОЙ   УПРАШИВАВШЕМУ       13       14       23   13\n",
       "380257         ОЗИРАВШИЙ         РЕЖИМОМ        9       11       12    9\n",
       "515654           ТОРМОШИ       УЛЬЧСКИМИ        8       10       12    8\n",
       "134316          ГАЛОШНИЦ          МАРШАХ        6        8       10    7\n",
       "116080      ВЫЛЕПЛЕННОМУ     СВОДНИЧАЕТЕ       12       13       17   12\n",
       "112637       ВЫЗВАВШЕМСЯ     ЧЕРНИЧНИКОМ       11       11       18   11\n",
       "186686          ДЯТЛОВОЮ          УРОНЕН        7        9       12    8"
      ]
     },
     "metadata": {},
     "output_type": "display_data"
    }
   ],
   "source": [
    "show_samples(distances)"
   ]
  },
  {
   "cell_type": "markdown",
   "metadata": {},
   "source": [
    "#### Посмотрим на время"
   ]
  },
  {
   "cell_type": "code",
   "execution_count": 20,
   "metadata": {},
   "outputs": [],
   "source": [
    "time_plot =  distances.astype({'lvs_time': float,'evl_time': float}).loc[distances['1st word'].apply(len) == distances['2nd word'].apply(len)].groupby(distances['1st word'].apply(len)).mean()"
   ]
  },
  {
   "cell_type": "code",
   "execution_count": 36,
   "metadata": {},
   "outputs": [
    {
     "name": "stderr",
     "output_type": "stream",
     "text": [
      "C:\\Users\\golev\\AppData\\Local\\Temp\\ipykernel_23836\\2752912882.py:8: UserWarning: Matplotlib is currently using module://matplotlib_inline.backend_inline, which is a non-GUI backend, so cannot show the figure.\n",
      "  fig.show()\n"
     ]
    },
    {
     "data": {
      "image/png": "[encoded data removed]",
      "text/plain": [
       "<Figure size 1728x432 with 3 Axes>"
      ]
     },
     "metadata": {
      "needs_background": "light"
     },
     "output_type": "display_data"
    }
   ],
   "source": [
    "fig, ax = plt.subplots(nrows=1, ncols=3, sharex=True, figsize=(24,6))\n",
    "ax[0].plot(time_plot[['lvs_time']])\n",
    "ax[0].set_title('lvs_time')\n",
    "ax[1].plot(time_plot[['evl_time']])\n",
    "ax[1].set_title('evl_time')\n",
    "ax[2].plot(time_plot[['lvs_time','evl_time']])\n",
    "ax[2].set_title('lvs_time & evl_time')\n",
    "fig.show()"
   ]
  },
  {
   "cell_type": "markdown",
   "metadata": {},
   "source": [
    "## Теперь поработаем с окончаниями\n",
    "Нужно выбрать какую-нибудь функцию, понижающую вес в зависимости от близости к концу слова"
   ]
  },
  {
   "cell_type": "code",
   "execution_count": 37,
   "metadata": {},
   "outputs": [],
   "source": [
    "def increase_weight(x, size):\n",
    "    return 1-0.8*(x/20)"
   ]
  },
  {
   "cell_type": "code",
   "execution_count": 38,
   "metadata": {},
   "outputs": [
    {
     "data": {
      "image/png": "[encoded data removed]",
      "text/plain": [
       "<Figure size 432x288 with 1 Axes>"
      ]
     },
     "metadata": {
      "needs_background": "light"
     },
     "output_type": "display_data"
    }
   ],
   "source": [
    "\n",
    "x = np.linspace(0,19,20)\n",
    "y = increase_weight(x, len(x))\n",
    "\n",
    "plt.plot(x,y)\n",
    "plt.xlabel(\"Порядок буквы в слове\")\n",
    "plt.ylabel(\"Множитель веса для этой буквы\")\n",
    "plt.show()"
   ]
  },
  {
   "cell_type": "code",
   "execution_count": 39,
   "metadata": {},
   "outputs": [],
   "source": [
    "def lvs_end_distance(string1, string2,max_len, ins = 1, deL = 1, sub = 1):\n",
    "    D = np.zeros((len(string2)+1,len(string1)+1),dtype = float)\n",
    "    D[:,0] = np.array([i*deL*increase_weight(i,max_len+1+1) for i in range(len(string2)+1)])\n",
    "    D[0,:] = np.array([i*ins*increase_weight(i,max_len+1+1) for i in range(len(string1)+1)])\n",
    "    for i in range(1,(len(string2)+1)):\n",
    "        for j in range(1,(len(string1)+1)):\n",
    "            ins_weight = ins*increase_weight(i,max_len+1)\n",
    "            del_weight = deL*increase_weight(i,max_len+1)\n",
    "            sub_weight =  sub*int(string1[j-1]!=string2[i-1])*increase_weight(i,max_len+1)\n",
    "            if i<=j:\n",
    "                ins_weight = ins*increase_weight(j,max_len+1)\n",
    "                del_weight = deL*increase_weight(j,max_len+1)\n",
    "                sub_weight =  sub*int(string1[j-1]!=string2[i-1])*increase_weight(i,max_len+1)\n",
    "            \n",
    "            D[i,j] = min([ D[i-1,j-1] + sub_weight, D[i-1,j] + del_weight, D[i,j-1] + ins_weight ])\n",
    "            #СДЕЛАТЬ РАЗНИЦУ В ДИАГОНАЛЬНОМ ЗАПОЛНЕНИИ\n",
    "    return D[-1,-1]"
   ]
  },
  {
   "cell_type": "code",
   "execution_count": null,
   "metadata": {},
   "outputs": [],
   "source": [
    "lvs_end_distance('АЛМАASDAS','АЛМАASDAA',20)\t"
   ]
  },
  {
   "cell_type": "markdown",
   "metadata": {},
   "source": [
    "#### Вычисляем дистанции с окончаниями"
   ]
  },
  {
   "cell_type": "code",
   "execution_count": 40,
   "metadata": {},
   "outputs": [],
   "source": [
    "end_distances = pd.DataFrame(columns=[\n",
    "    '1st word', '2nd word','lvs_111','lvs_221','lvs_112','evl'])"
   ]
  },
  {
   "cell_type": "code",
   "execution_count": 41,
   "metadata": {},
   "outputs": [
    {
     "name": "stderr",
     "output_type": "stream",
     "text": [
      "100%|██████████| 1022/1022 [1:59:48<00:00,  7.03s/it] \n"
     ]
    }
   ],
   "source": [
    "with io.open('russian.txt', encoding='utf-8') as ru1:\n",
    "    ru1 = ru1.read().splitlines()\n",
    "    max_len = len(max(ru1, key = (lambda x: len(x))))\n",
    "    for i in tqdm(range(len(ru1))):\n",
    "        for j in range(i+1,len(ru1)):\n",
    "            lvs_range = lvs_end_distance(ru1[i],ru1[j],max_len)\n",
    "            evl_range = evl_distance(ru1[i],ru1[j])       \n",
    "            end_distances.loc[len(end_distances)] = [ru1[i] ,ru1[j] ,lvs_range, lvs_end_distance(ru1[i],ru1[j],max_len,2,2,1), lvs_end_distance(ru1[i],ru1[j],max_len,1,1,2), evl_range]"
   ]
  },
  {
   "cell_type": "code",
   "execution_count": 42,
   "metadata": {},
   "outputs": [
    {
     "data": {
      "text/html": [
       "<div>\n",
       "<style scoped>\n",
       "    .dataframe tbody tr th:only-of-type {\n",
       "        vertical-align: middle;\n",
       "    }\n",
       "\n",
       "    .dataframe tbody tr th {\n",
       "        vertical-align: top;\n",
       "    }\n",
       "\n",
       "    .dataframe thead th {\n",
       "        text-align: right;\n",
       "    }\n",
       "</style>\n",
       "<table border=\"1\" class=\"dataframe\">\n",
       "  <thead>\n",
       "    <tr style=\"text-align: right;\">\n",
       "      <th></th>\n",
       "      <th>lvs_111</th>\n",
       "      <th>lvs_221</th>\n",
       "      <th>lvs_112</th>\n",
       "      <th>evl</th>\n",
       "    </tr>\n",
       "  </thead>\n",
       "  <tbody>\n",
       "    <tr>\n",
       "      <th>count</th>\n",
       "      <td>521731.000000</td>\n",
       "      <td>521731.000000</td>\n",
       "      <td>521731.000000</td>\n",
       "      <td>521731.000000</td>\n",
       "    </tr>\n",
       "    <tr>\n",
       "      <th>mean</th>\n",
       "      <td>7.545278</td>\n",
       "      <td>9.859818</td>\n",
       "      <td>9.717884</td>\n",
       "      <td>11.975068</td>\n",
       "    </tr>\n",
       "    <tr>\n",
       "      <th>std</th>\n",
       "      <td>1.151272</td>\n",
       "      <td>2.123446</td>\n",
       "      <td>1.382243</td>\n",
       "      <td>2.760214</td>\n",
       "    </tr>\n",
       "    <tr>\n",
       "      <th>min</th>\n",
       "      <td>1.320000</td>\n",
       "      <td>1.680000</td>\n",
       "      <td>2.200000</td>\n",
       "      <td>2.000000</td>\n",
       "    </tr>\n",
       "    <tr>\n",
       "      <th>25%</th>\n",
       "      <td>6.840000</td>\n",
       "      <td>8.360000</td>\n",
       "      <td>8.920000</td>\n",
       "      <td>10.000000</td>\n",
       "    </tr>\n",
       "    <tr>\n",
       "      <th>50%</th>\n",
       "      <td>7.680000</td>\n",
       "      <td>9.720000</td>\n",
       "      <td>9.880000</td>\n",
       "      <td>12.000000</td>\n",
       "    </tr>\n",
       "    <tr>\n",
       "      <th>75%</th>\n",
       "      <td>8.360000</td>\n",
       "      <td>11.280000</td>\n",
       "      <td>10.720000</td>\n",
       "      <td>14.000000</td>\n",
       "    </tr>\n",
       "    <tr>\n",
       "      <th>max</th>\n",
       "      <td>10.560000</td>\n",
       "      <td>16.000000</td>\n",
       "      <td>12.480000</td>\n",
       "      <td>22.000000</td>\n",
       "    </tr>\n",
       "  </tbody>\n",
       "</table>\n",
       "</div>"
      ],
      "text/plain": [
       "             lvs_111        lvs_221        lvs_112            evl\n",
       "count  521731.000000  521731.000000  521731.000000  521731.000000\n",
       "mean        7.545278       9.859818       9.717884      11.975068\n",
       "std         1.151272       2.123446       1.382243       2.760214\n",
       "min         1.320000       1.680000       2.200000       2.000000\n",
       "25%         6.840000       8.360000       8.920000      10.000000\n",
       "50%         7.680000       9.720000       9.880000      12.000000\n",
       "75%         8.360000      11.280000      10.720000      14.000000\n",
       "max        10.560000      16.000000      12.480000      22.000000"
      ]
     },
     "execution_count": 42,
     "metadata": {},
     "output_type": "execute_result"
    }
   ],
   "source": [
    "end_distances.describe()"
   ]
  },
  {
   "cell_type": "markdown",
   "metadata": {},
   "source": [
    "Вывод самых похожих слов в алфавите"
   ]
  },
  {
   "cell_type": "code",
   "execution_count": 43,
   "metadata": {},
   "outputs": [
    {
     "data": {
      "text/html": [
       "<div>\n",
       "<style scoped>\n",
       "    .dataframe tbody tr th:only-of-type {\n",
       "        vertical-align: middle;\n",
       "    }\n",
       "\n",
       "    .dataframe tbody tr th {\n",
       "        vertical-align: top;\n",
       "    }\n",
       "\n",
       "    .dataframe thead th {\n",
       "        text-align: right;\n",
       "    }\n",
       "</style>\n",
       "<table border=\"1\" class=\"dataframe\">\n",
       "  <thead>\n",
       "    <tr style=\"text-align: right;\">\n",
       "      <th></th>\n",
       "      <th>1st word</th>\n",
       "      <th>2nd word</th>\n",
       "      <th>lvs_111</th>\n",
       "    </tr>\n",
       "  </thead>\n",
       "  <tbody>\n",
       "    <tr>\n",
       "      <th>0</th>\n",
       "      <td>ДЕВЯТИЭТАЖНЫМ</td>\n",
       "      <td>ДЕСЯТИЭТАЖНЫМИ</td>\n",
       "      <td>1.32</td>\n",
       "    </tr>\n",
       "  </tbody>\n",
       "</table>\n",
       "</div>"
      ],
      "text/plain": [
       "        1st word        2nd word  lvs_111\n",
       "0  ДЕВЯТИЭТАЖНЫМ  ДЕСЯТИЭТАЖНЫМИ     1.32"
      ]
     },
     "metadata": {},
     "output_type": "display_data"
    },
    {
     "data": {
      "text/html": [
       "<div>\n",
       "<style scoped>\n",
       "    .dataframe tbody tr th:only-of-type {\n",
       "        vertical-align: middle;\n",
       "    }\n",
       "\n",
       "    .dataframe tbody tr th {\n",
       "        vertical-align: top;\n",
       "    }\n",
       "\n",
       "    .dataframe thead th {\n",
       "        text-align: right;\n",
       "    }\n",
       "</style>\n",
       "<table border=\"1\" class=\"dataframe\">\n",
       "  <thead>\n",
       "    <tr style=\"text-align: right;\">\n",
       "      <th></th>\n",
       "      <th>1st word</th>\n",
       "      <th>2nd word</th>\n",
       "      <th>lvs_111</th>\n",
       "    </tr>\n",
       "  </thead>\n",
       "  <tbody>\n",
       "    <tr>\n",
       "      <th>0</th>\n",
       "      <td>СПРАШИВАВШЕМ</td>\n",
       "      <td>УПРАШИВАВШЕМУ</td>\n",
       "      <td>1.44</td>\n",
       "    </tr>\n",
       "  </tbody>\n",
       "</table>\n",
       "</div>"
      ],
      "text/plain": [
       "       1st word       2nd word  lvs_111\n",
       "0  СПРАШИВАВШЕМ  УПРАШИВАВШЕМУ     1.44"
      ]
     },
     "metadata": {},
     "output_type": "display_data"
    },
    {
     "data": {
      "text/html": [
       "<div>\n",
       "<style scoped>\n",
       "    .dataframe tbody tr th:only-of-type {\n",
       "        vertical-align: middle;\n",
       "    }\n",
       "\n",
       "    .dataframe tbody tr th {\n",
       "        vertical-align: top;\n",
       "    }\n",
       "\n",
       "    .dataframe thead th {\n",
       "        text-align: right;\n",
       "    }\n",
       "</style>\n",
       "<table border=\"1\" class=\"dataframe\">\n",
       "  <thead>\n",
       "    <tr style=\"text-align: right;\">\n",
       "      <th></th>\n",
       "      <th>1st word</th>\n",
       "      <th>2nd word</th>\n",
       "      <th>lvs_111</th>\n",
       "    </tr>\n",
       "  </thead>\n",
       "  <tbody>\n",
       "    <tr>\n",
       "      <th>0</th>\n",
       "      <td>КРАПУ</td>\n",
       "      <td>КРАЮ</td>\n",
       "      <td>1.64</td>\n",
       "    </tr>\n",
       "  </tbody>\n",
       "</table>\n",
       "</div>"
      ],
      "text/plain": [
       "  1st word 2nd word  lvs_111\n",
       "0    КРАПУ     КРАЮ     1.64"
      ]
     },
     "metadata": {},
     "output_type": "display_data"
    },
    {
     "data": {
      "text/html": [
       "<div>\n",
       "<style scoped>\n",
       "    .dataframe tbody tr th:only-of-type {\n",
       "        vertical-align: middle;\n",
       "    }\n",
       "\n",
       "    .dataframe tbody tr th {\n",
       "        vertical-align: top;\n",
       "    }\n",
       "\n",
       "    .dataframe thead th {\n",
       "        text-align: right;\n",
       "    }\n",
       "</style>\n",
       "<table border=\"1\" class=\"dataframe\">\n",
       "  <thead>\n",
       "    <tr style=\"text-align: right;\">\n",
       "      <th></th>\n",
       "      <th>1st word</th>\n",
       "      <th>2nd word</th>\n",
       "      <th>lvs_111</th>\n",
       "    </tr>\n",
       "  </thead>\n",
       "  <tbody>\n",
       "    <tr>\n",
       "      <th>0</th>\n",
       "      <td>НАКАЛЕННОЙ</td>\n",
       "      <td>НАЛАЖЕННОЙ</td>\n",
       "      <td>1.68</td>\n",
       "    </tr>\n",
       "  </tbody>\n",
       "</table>\n",
       "</div>"
      ],
      "text/plain": [
       "     1st word    2nd word  lvs_111\n",
       "0  НАКАЛЕННОЙ  НАЛАЖЕННОЙ     1.68"
      ]
     },
     "metadata": {},
     "output_type": "display_data"
    },
    {
     "data": {
      "text/html": [
       "<div>\n",
       "<style scoped>\n",
       "    .dataframe tbody tr th:only-of-type {\n",
       "        vertical-align: middle;\n",
       "    }\n",
       "\n",
       "    .dataframe tbody tr th {\n",
       "        vertical-align: top;\n",
       "    }\n",
       "\n",
       "    .dataframe thead th {\n",
       "        text-align: right;\n",
       "    }\n",
       "</style>\n",
       "<table border=\"1\" class=\"dataframe\">\n",
       "  <thead>\n",
       "    <tr style=\"text-align: right;\">\n",
       "      <th></th>\n",
       "      <th>1st word</th>\n",
       "      <th>2nd word</th>\n",
       "      <th>lvs_111</th>\n",
       "    </tr>\n",
       "  </thead>\n",
       "  <tbody>\n",
       "    <tr>\n",
       "      <th>0</th>\n",
       "      <td>ОЖИГАЕТЕ</td>\n",
       "      <td>СЖИГАЙТЕ</td>\n",
       "      <td>1.72</td>\n",
       "    </tr>\n",
       "  </tbody>\n",
       "</table>\n",
       "</div>"
      ],
      "text/plain": [
       "   1st word  2nd word  lvs_111\n",
       "0  ОЖИГАЕТЕ  СЖИГАЙТЕ     1.72"
      ]
     },
     "metadata": {},
     "output_type": "display_data"
    },
    {
     "data": {
      "text/html": [
       "<div>\n",
       "<style scoped>\n",
       "    .dataframe tbody tr th:only-of-type {\n",
       "        vertical-align: middle;\n",
       "    }\n",
       "\n",
       "    .dataframe tbody tr th {\n",
       "        vertical-align: top;\n",
       "    }\n",
       "\n",
       "    .dataframe thead th {\n",
       "        text-align: right;\n",
       "    }\n",
       "</style>\n",
       "<table border=\"1\" class=\"dataframe\">\n",
       "  <thead>\n",
       "    <tr style=\"text-align: right;\">\n",
       "      <th></th>\n",
       "      <th>1st word</th>\n",
       "      <th>2nd word</th>\n",
       "      <th>lvs_111</th>\n",
       "    </tr>\n",
       "  </thead>\n",
       "  <tbody>\n",
       "    <tr>\n",
       "      <th>0</th>\n",
       "      <td>КАРАТ</td>\n",
       "      <td>КРАЮ</td>\n",
       "      <td>1.76</td>\n",
       "    </tr>\n",
       "  </tbody>\n",
       "</table>\n",
       "</div>"
      ],
      "text/plain": [
       "  1st word 2nd word  lvs_111\n",
       "0    КАРАТ     КРАЮ     1.76"
      ]
     },
     "metadata": {},
     "output_type": "display_data"
    },
    {
     "data": {
      "text/html": [
       "<div>\n",
       "<style scoped>\n",
       "    .dataframe tbody tr th:only-of-type {\n",
       "        vertical-align: middle;\n",
       "    }\n",
       "\n",
       "    .dataframe tbody tr th {\n",
       "        vertical-align: top;\n",
       "    }\n",
       "\n",
       "    .dataframe thead th {\n",
       "        text-align: right;\n",
       "    }\n",
       "</style>\n",
       "<table border=\"1\" class=\"dataframe\">\n",
       "  <thead>\n",
       "    <tr style=\"text-align: right;\">\n",
       "      <th></th>\n",
       "      <th>1st word</th>\n",
       "      <th>2nd word</th>\n",
       "      <th>lvs_111</th>\n",
       "    </tr>\n",
       "  </thead>\n",
       "  <tbody>\n",
       "    <tr>\n",
       "      <th>0</th>\n",
       "      <td>СЖИГАЙТЕ</td>\n",
       "      <td>УЖИНАЙТЕ</td>\n",
       "      <td>1.8</td>\n",
       "    </tr>\n",
       "  </tbody>\n",
       "</table>\n",
       "</div>"
      ],
      "text/plain": [
       "   1st word  2nd word  lvs_111\n",
       "0  СЖИГАЙТЕ  УЖИНАЙТЕ      1.8"
      ]
     },
     "metadata": {},
     "output_type": "display_data"
    }
   ],
   "source": [
    "group_distaces(end_distances,'lvs_111',7)"
   ]
  },
  {
   "cell_type": "markdown",
   "metadata": {},
   "source": [
    "#### Корреляция дистанций Левенштейна c Евклидовой метрикой"
   ]
  },
  {
   "cell_type": "code",
   "execution_count": 44,
   "metadata": {},
   "outputs": [
    {
     "data": {
      "text/html": [
       "<div>\n",
       "<style scoped>\n",
       "    .dataframe tbody tr th:only-of-type {\n",
       "        vertical-align: middle;\n",
       "    }\n",
       "\n",
       "    .dataframe tbody tr th {\n",
       "        vertical-align: top;\n",
       "    }\n",
       "\n",
       "    .dataframe thead th {\n",
       "        text-align: right;\n",
       "    }\n",
       "</style>\n",
       "<table border=\"1\" class=\"dataframe\">\n",
       "  <thead>\n",
       "    <tr style=\"text-align: right;\">\n",
       "      <th></th>\n",
       "      <th>lvs_111</th>\n",
       "      <th>lvs_221</th>\n",
       "      <th>lvs_112</th>\n",
       "      <th>evl</th>\n",
       "    </tr>\n",
       "  </thead>\n",
       "  <tbody>\n",
       "    <tr>\n",
       "      <th>lvs_111</th>\n",
       "      <td>1.000000</td>\n",
       "      <td>0.636238</td>\n",
       "      <td>0.540500</td>\n",
       "      <td>0.532690</td>\n",
       "    </tr>\n",
       "    <tr>\n",
       "      <th>lvs_221</th>\n",
       "      <td>0.636238</td>\n",
       "      <td>1.000000</td>\n",
       "      <td>-0.156279</td>\n",
       "      <td>0.745719</td>\n",
       "    </tr>\n",
       "    <tr>\n",
       "      <th>lvs_112</th>\n",
       "      <td>0.540500</td>\n",
       "      <td>-0.156279</td>\n",
       "      <td>1.000000</td>\n",
       "      <td>-0.118626</td>\n",
       "    </tr>\n",
       "    <tr>\n",
       "      <th>evl</th>\n",
       "      <td>0.532690</td>\n",
       "      <td>0.745719</td>\n",
       "      <td>-0.118626</td>\n",
       "      <td>1.000000</td>\n",
       "    </tr>\n",
       "  </tbody>\n",
       "</table>\n",
       "</div>"
      ],
      "text/plain": [
       "          lvs_111   lvs_221   lvs_112       evl\n",
       "lvs_111  1.000000  0.636238  0.540500  0.532690\n",
       "lvs_221  0.636238  1.000000 -0.156279  0.745719\n",
       "lvs_112  0.540500 -0.156279  1.000000 -0.118626\n",
       "evl      0.532690  0.745719 -0.118626  1.000000"
      ]
     },
     "metadata": {},
     "output_type": "display_data"
    }
   ],
   "source": [
    "calc_corr(end_distances)"
   ]
  },
  {
   "cell_type": "markdown",
   "metadata": {},
   "source": [
    "#### Выведем какие-нибудь слова и посмотрим на дистанции"
   ]
  },
  {
   "cell_type": "code",
   "execution_count": 45,
   "metadata": {},
   "outputs": [
    {
     "data": {
      "text/html": [
       "<div>\n",
       "<style scoped>\n",
       "    .dataframe tbody tr th:only-of-type {\n",
       "        vertical-align: middle;\n",
       "    }\n",
       "\n",
       "    .dataframe tbody tr th {\n",
       "        vertical-align: top;\n",
       "    }\n",
       "\n",
       "    .dataframe thead th {\n",
       "        text-align: right;\n",
       "    }\n",
       "</style>\n",
       "<table border=\"1\" class=\"dataframe\">\n",
       "  <thead>\n",
       "    <tr style=\"text-align: right;\">\n",
       "      <th></th>\n",
       "      <th>1st word</th>\n",
       "      <th>2nd word</th>\n",
       "      <th>lvs_111</th>\n",
       "      <th>lvs_221</th>\n",
       "      <th>lvs_112</th>\n",
       "      <th>evl</th>\n",
       "    </tr>\n",
       "  </thead>\n",
       "  <tbody>\n",
       "    <tr>\n",
       "      <th>413665</th>\n",
       "      <td>ПЕДЕЛЬ</td>\n",
       "      <td>СКАНДАЛИТ</td>\n",
       "      <td>5.64</td>\n",
       "      <td>8.04</td>\n",
       "      <td>8.52</td>\n",
       "      <td>9</td>\n",
       "    </tr>\n",
       "    <tr>\n",
       "      <th>223939</th>\n",
       "      <td>ЗАСМАТРИВАЮЩИЙ</td>\n",
       "      <td>СКАНДАЛИТ</td>\n",
       "      <td>7.60</td>\n",
       "      <td>11.28</td>\n",
       "      <td>10.08</td>\n",
       "      <td>13</td>\n",
       "    </tr>\n",
       "    <tr>\n",
       "      <th>379973</th>\n",
       "      <td>ОЗИРАВШИЙ</td>\n",
       "      <td>ОСРАМИВШИСЬ</td>\n",
       "      <td>4.52</td>\n",
       "      <td>6.68</td>\n",
       "      <td>5.96</td>\n",
       "      <td>10</td>\n",
       "    </tr>\n",
       "    <tr>\n",
       "      <th>252397</th>\n",
       "      <td>ИНФИНИТЕЗИМАЛЬНОЕ</td>\n",
       "      <td>ПРИСКУЧИВАВШИЙ</td>\n",
       "      <td>9.48</td>\n",
       "      <td>11.32</td>\n",
       "      <td>9.92</td>\n",
       "      <td>17</td>\n",
       "    </tr>\n",
       "    <tr>\n",
       "      <th>230986</th>\n",
       "      <td>ЗАХЛЁСТЫВАВШЕЙСЯ</td>\n",
       "      <td>ХРЯСНУВШИМ</td>\n",
       "      <td>8.36</td>\n",
       "      <td>12.12</td>\n",
       "      <td>9.32</td>\n",
       "      <td>16</td>\n",
       "    </tr>\n",
       "    <tr>\n",
       "      <th>413323</th>\n",
       "      <td>ПАУТИНИСТОМ</td>\n",
       "      <td>ФАБРЕНА</td>\n",
       "      <td>6.68</td>\n",
       "      <td>9.16</td>\n",
       "      <td>10.08</td>\n",
       "      <td>9</td>\n",
       "    </tr>\n",
       "    <tr>\n",
       "      <th>497147</th>\n",
       "      <td>РЕХНУТСЯ</td>\n",
       "      <td>ФОТОХРОМНОЕ</td>\n",
       "      <td>7.52</td>\n",
       "      <td>9.84</td>\n",
       "      <td>9.96</td>\n",
       "      <td>11</td>\n",
       "    </tr>\n",
       "    <tr>\n",
       "      <th>277276</th>\n",
       "      <td>КОННИКАМ</td>\n",
       "      <td>ОТДАВАВШЕЕ</td>\n",
       "      <td>7.04</td>\n",
       "      <td>9.04</td>\n",
       "      <td>10.40</td>\n",
       "      <td>10</td>\n",
       "    </tr>\n",
       "    <tr>\n",
       "      <th>284063</th>\n",
       "      <td>КРАПУ</td>\n",
       "      <td>МЕДИАПЛЕЕРОВ</td>\n",
       "      <td>7.28</td>\n",
       "      <td>12.04</td>\n",
       "      <td>8.84</td>\n",
       "      <td>12</td>\n",
       "    </tr>\n",
       "    <tr>\n",
       "      <th>196037</th>\n",
       "      <td>ЗАВАРКУ</td>\n",
       "      <td>ПАНАГИЮ</td>\n",
       "      <td>4.12</td>\n",
       "      <td>4.12</td>\n",
       "      <td>8.12</td>\n",
       "      <td>5</td>\n",
       "    </tr>\n",
       "  </tbody>\n",
       "</table>\n",
       "</div>"
      ],
      "text/plain": [
       "                 1st word        2nd word  lvs_111  lvs_221  lvs_112  evl\n",
       "413665             ПЕДЕЛЬ       СКАНДАЛИТ     5.64     8.04     8.52    9\n",
       "223939     ЗАСМАТРИВАЮЩИЙ       СКАНДАЛИТ     7.60    11.28    10.08   13\n",
       "379973          ОЗИРАВШИЙ     ОСРАМИВШИСЬ     4.52     6.68     5.96   10\n",
       "252397  ИНФИНИТЕЗИМАЛЬНОЕ  ПРИСКУЧИВАВШИЙ     9.48    11.32     9.92   17\n",
       "230986   ЗАХЛЁСТЫВАВШЕЙСЯ      ХРЯСНУВШИМ     8.36    12.12     9.32   16\n",
       "413323        ПАУТИНИСТОМ         ФАБРЕНА     6.68     9.16    10.08    9\n",
       "497147           РЕХНУТСЯ     ФОТОХРОМНОЕ     7.52     9.84     9.96   11\n",
       "277276           КОННИКАМ      ОТДАВАВШЕЕ     7.04     9.04    10.40   10\n",
       "284063              КРАПУ    МЕДИАПЛЕЕРОВ     7.28    12.04     8.84   12\n",
       "196037            ЗАВАРКУ         ПАНАГИЮ     4.12     4.12     8.12    5"
      ]
     },
     "metadata": {},
     "output_type": "display_data"
    }
   ],
   "source": [
    "show_samples(end_distances)"
   ]
  },
  {
   "cell_type": "markdown",
   "metadata": {},
   "source": [
    "Что нужно сделать:\n",
    "1. Самые похожие слова вывести - метрика (показать) сколько то пар слов + окончания\n",
    "2. Для каких то пар слов вывести веса при разных распределениях   + окончания \n",
    "3. Время от длины слов (фиксированные словари) и посчитатать среднее время. Графии среднее время в зависимости от длинны слова \n",
    "<br/>\n",
    "Для окончаний уменьшать вес в зависимости от положения символа"
   ]
  }
 ],
 "metadata": {
  "kernelspec": {
   "display_name": "Python 3.10.7 64-bit (microsoft store)",
   "language": "python",
   "name": "python3"
  },
  "language_info": {
   "codemirror_mode": {
    "name": "ipython",
    "version": 3
   },
   "file_extension": ".py",
   "mimetype": "text/x-python",
   "name": "python",
   "nbconvert_exporter": "python",
   "pygments_lexer": "ipython3",
   "version": "3.10.8"
  },
  "orig_nbformat": 4,
  "vscode": {
   "interpreter": {
    "hash": "41e8dcb27080ebc67adeb63eba3c5cfdcf918bd999d06110debe9c8568dac74d"
   }
  }
 },
 "nbformat": 4,
 "nbformat_minor": 2
}
